{
 "cells": [
  {
   "cell_type": "code",
   "execution_count": 1,
   "id": "dd8e87fe",
   "metadata": {},
   "outputs": [],
   "source": [
    "import numpy as np\n",
    "import pandas as pd\n",
    "import pickle\n",
    "\n",
    "from sklearn.ensemble import RandomForestClassifier\n",
    "from sklearn.model_selection import train_test_split"
   ]
  },
  {
   "cell_type": "code",
   "execution_count": 2,
   "id": "e0fc1353",
   "metadata": {},
   "outputs": [],
   "source": [
    "df = pd.read_csv('PersonalityTest-Copy1.csv')"
   ]
  },
  {
   "cell_type": "code",
   "execution_count": 4,
   "id": "cf17d9c3",
   "metadata": {},
   "outputs": [],
   "source": [
    "df.drop(columns=['Unnamed: 0'],inplace=True)"
   ]
  },
  {
   "cell_type": "code",
   "execution_count": 5,
   "id": "9c8b353f",
   "metadata": {},
   "outputs": [],
   "source": [
    "df['personality'] = df['personality'].map({'dependable': 0,\n",
    "                                          'extraverted': 1,\n",
    "                                          'lively': 2,\n",
    "                                          'responsible': 3,\n",
    "                                           'serious': 4})"
   ]
  },
  {
   "cell_type": "code",
   "execution_count": 8,
   "id": "2881cf1b",
   "metadata": {},
   "outputs": [],
   "source": [
    "X = df.drop(['personality'], axis=1)\n",
    "y = df['personality']"
   ]
  },
  {
   "cell_type": "code",
   "execution_count": 9,
   "id": "adb55743",
   "metadata": {},
   "outputs": [],
   "source": [
    "scaler = MinMaxScaler()\n",
    "X_sc = scaler.fit_transform(X)"
   ]
  },
  {
   "cell_type": "code",
   "execution_count": 10,
   "id": "21a7680e",
   "metadata": {},
   "outputs": [],
   "source": [
    "def relabel_personality(x):\n",
    "    if x == 0 or x == 3:\n",
    "        return 1\n",
    "    else:\n",
    "        return 0\n",
    "\n",
    "relabel_personality_v = np.vectorize(relabel_personality)\n",
    "\n",
    "Y = relabel_personality_v(y)"
   ]
  },
  {
   "cell_type": "code",
   "execution_count": 13,
   "id": "11a37e26",
   "metadata": {},
   "outputs": [
    {
     "data": {
      "text/plain": [
       "RandomForestClassifier()"
      ]
     },
     "execution_count": 13,
     "metadata": {},
     "output_type": "execute_result"
    }
   ],
   "source": [
    "rf = RandomForestClassifier()\n",
    "rf.fit(X_sc, y)"
   ]
  },
  {
   "cell_type": "code",
   "execution_count": null,
   "id": "210aec7d",
   "metadata": {},
   "outputs": [],
   "source": [
    "pickle.dump(rf, open(\"ml_model2.pkl\", \"wb\"))\n",
    "pickle.dump(scaler, open(\"scaler2.pkl\", \"wb\"))"
   ]
  }
 ],
 "metadata": {
  "kernelspec": {
   "display_name": "Python 3 (ipykernel)",
   "language": "python",
   "name": "python3"
  },
  "language_info": {
   "codemirror_mode": {
    "name": "ipython",
    "version": 3
   },
   "file_extension": ".py",
   "mimetype": "text/x-python",
   "name": "python",
   "nbconvert_exporter": "python",
   "pygments_lexer": "ipython3",
   "version": "3.9.13"
  }
 },
 "nbformat": 4,
 "nbformat_minor": 5
}
